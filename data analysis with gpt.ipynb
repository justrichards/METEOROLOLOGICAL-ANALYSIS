{
 "cells": [
  {
   "cell_type": "code",
   "execution_count": 1,
   "id": "25325fba-78fd-4b3e-beb2-8a9dda8f7167",
   "metadata": {},
   "outputs": [],
   "source": [
    "import pandas as pd\n",
    "import matplotlib as plt \n",
    "import seaborn as sns \n",
    "import numpy as np"
   ]
  },
  {
   "cell_type": "code",
   "execution_count": 2,
   "id": "4ed439aa-48df-49ea-a2b1-24b9fa13380f",
   "metadata": {},
   "outputs": [
    {
     "name": "stdout",
     "output_type": "stream",
     "text": [
      "25\n"
     ]
    }
   ],
   "source": [
    "a=5\n",
    "b=5\n",
    "print (a*b)"
   ]
  },
  {
   "cell_type": "code",
   "execution_count": 3,
   "id": "35ae0dc7-191f-4bfe-ad83-df100e5a87eb",
   "metadata": {},
   "outputs": [],
   "source": [
    "#functions"
   ]
  },
  {
   "cell_type": "code",
   "execution_count": 6,
   "id": "ad7f5de7-e274-473e-a8c4-3e7386cf83b2",
   "metadata": {},
   "outputs": [],
   "source": [
    "def greet():\n",
    "    print (\"hello, welcome to python\")"
   ]
  },
  {
   "cell_type": "code",
   "execution_count": 7,
   "id": "b4071204-21a2-4204-8883-83144d127a3f",
   "metadata": {},
   "outputs": [
    {
     "name": "stdout",
     "output_type": "stream",
     "text": [
      "hello, welcome to python\n"
     ]
    }
   ],
   "source": [
    "greet()"
   ]
  },
  {
   "cell_type": "code",
   "execution_count": 10,
   "id": "1676b9d7-e496-4e7d-8c8a-9762ac3b86e8",
   "metadata": {},
   "outputs": [],
   "source": [
    "def greet(name):\n",
    "    print (\"hello\", name)"
   ]
  },
  {
   "cell_type": "code",
   "execution_count": 11,
   "id": "bff5916c-0115-4cf7-985f-5d7fc8edf4fc",
   "metadata": {},
   "outputs": [
    {
     "name": "stdout",
     "output_type": "stream",
     "text": [
      "hello kingsley\n"
     ]
    }
   ],
   "source": [
    "greet (\"kingsley\")"
   ]
  },
  {
   "cell_type": "code",
   "execution_count": 12,
   "id": "0f191295-0cbb-4b64-a949-10077fef2b79",
   "metadata": {},
   "outputs": [],
   "source": [
    "def add(a,b):\n",
    "    return a+b\n",
    "    "
   ]
  },
  {
   "cell_type": "code",
   "execution_count": 13,
   "id": "d5aab315-aada-4954-be17-1d389e600c6b",
   "metadata": {},
   "outputs": [
    {
     "name": "stdout",
     "output_type": "stream",
     "text": [
      "10\n"
     ]
    }
   ],
   "source": [
    "result = add(4,6)\n",
    "print(result)"
   ]
  },
  {
   "cell_type": "code",
   "execution_count": 17,
   "id": "4e1c167e-3816-4410-b96e-6591d6bdb38c",
   "metadata": {},
   "outputs": [
    {
     "ename": "SyntaxError",
     "evalue": "invalid syntax (93453593.py, line 1)",
     "output_type": "error",
     "traceback": [
      "\u001b[1;36m  Cell \u001b[1;32mIn[17], line 1\u001b[1;36m\u001b[0m\n\u001b[1;33m    def greet((name=\"guest\"):\u001b[0m\n\u001b[1;37m              ^\u001b[0m\n\u001b[1;31mSyntaxError\u001b[0m\u001b[1;31m:\u001b[0m invalid syntax\n"
     ]
    }
   ],
   "source": [
    "def greet((name=\"guest\"):\n",
    "    print(\"hello\", name)"
   ]
  },
  {
   "cell_type": "code",
   "execution_count": 19,
   "id": "1ac9bdc9-2d78-401b-80fc-1be83e8b79d9",
   "metadata": {},
   "outputs": [
    {
     "ename": "TypeError",
     "evalue": "greet() missing 1 required positional argument: 'name'",
     "output_type": "error",
     "traceback": [
      "\u001b[1;31m---------------------------------------------------------------------------\u001b[0m",
      "\u001b[1;31mTypeError\u001b[0m                                 Traceback (most recent call last)",
      "Cell \u001b[1;32mIn[19], line 1\u001b[0m\n\u001b[1;32m----> 1\u001b[0m greet()\n\u001b[0;32m      2\u001b[0m greet (\u001b[38;5;124m\"\u001b[39m\u001b[38;5;124mzara\u001b[39m\u001b[38;5;124m\"\u001b[39m)\n",
      "\u001b[1;31mTypeError\u001b[0m: greet() missing 1 required positional argument: 'name'"
     ]
    }
   ],
   "source": [
    "greet()\n",
    "greet (\"zara\")"
   ]
  },
  {
   "cell_type": "code",
   "execution_count": 20,
   "id": "cf870749-66f5-4dca-9633-3f904d6848f8",
   "metadata": {},
   "outputs": [],
   "source": [
    "def multiply(a,b):\n",
    "    return a*b"
   ]
  },
  {
   "cell_type": "code",
   "execution_count": 21,
   "id": "f5feec9d-9ac9-402e-8982-bf978728b2b7",
   "metadata": {},
   "outputs": [
    {
     "name": "stdout",
     "output_type": "stream",
     "text": [
      "25\n"
     ]
    }
   ],
   "source": [
    "result= multiply(5,5)\n",
    "print (result)"
   ]
  },
  {
   "cell_type": "code",
   "execution_count": 22,
   "id": "20db79a9-e5d6-4f87-9afa-55056ec5a5d1",
   "metadata": {},
   "outputs": [],
   "source": [
    "def is_even (n):\n",
    "    return n %2 ==0"
   ]
  },
  {
   "cell_type": "code",
   "execution_count": 23,
   "id": "3e42f8c2-ee3c-44e3-9463-8994bda29e6c",
   "metadata": {},
   "outputs": [
    {
     "name": "stdout",
     "output_type": "stream",
     "text": [
      "True\n"
     ]
    }
   ],
   "source": [
    "print (is_even (60))"
   ]
  },
  {
   "cell_type": "code",
   "execution_count": 24,
   "id": "c1ef4dd2-57ae-4d63-9e58-5b27987c9278",
   "metadata": {},
   "outputs": [
    {
     "name": "stdout",
     "output_type": "stream",
     "text": [
      "False\n"
     ]
    }
   ],
   "source": [
    "print (is_even(23))"
   ]
  },
  {
   "cell_type": "code",
   "execution_count": 25,
   "id": "f5a4011d-a4db-41fb-b18c-34b07cf4fb1d",
   "metadata": {},
   "outputs": [
    {
     "name": "stdout",
     "output_type": "stream",
     "text": [
      "10\n"
     ]
    }
   ],
   "source": [
    "result = add(5,5)\n",
    "print(result)"
   ]
  },
  {
   "cell_type": "code",
   "execution_count": 30,
   "id": "ac5a3c5e-a26b-4541-9677-88dcd29afb6b",
   "metadata": {},
   "outputs": [],
   "source": [
    "def desc( name, age):\n",
    "    print (f\"my name is {name} and i am {age} years old.\")"
   ]
  },
  {
   "cell_type": "code",
   "execution_count": 31,
   "id": "b1bbf023-05c7-4ff2-a816-a38ffa93b1a7",
   "metadata": {},
   "outputs": [
    {
     "name": "stdout",
     "output_type": "stream",
     "text": [
      "my name is kingsley and i am 26 years old.\n"
     ]
    }
   ],
   "source": [
    "desc(\"kingsley\", 26)"
   ]
  },
  {
   "cell_type": "code",
   "execution_count": 32,
   "id": "e045da62-2722-4028-a8cd-0b4777d30041",
   "metadata": {},
   "outputs": [],
   "source": [
    "#list and loops in practice\n",
    "numbers =[10, 20, 30, 40, 50]\n",
    "total=0\n",
    "for num in numbers:\n",
    "    total += num"
   ]
  },
  {
   "cell_type": "code",
   "execution_count": 33,
   "id": "8cac4b6e-f844-466a-b6d4-131f04c2c185",
   "metadata": {},
   "outputs": [
    {
     "name": "stdout",
     "output_type": "stream",
     "text": [
      "total: 150\n"
     ]
    }
   ],
   "source": [
    "print(\"total:\", total)"
   ]
  },
  {
   "cell_type": "code",
   "execution_count": 34,
   "id": "9dbacdd1-35f6-460b-a382-cf6fbf2f24f7",
   "metadata": {},
   "outputs": [
    {
     "name": "stdout",
     "output_type": "stream",
     "text": [
      "average: 30.0\n"
     ]
    }
   ],
   "source": [
    "print(\"average:\", total/ len(numbers))"
   ]
  },
  {
   "cell_type": "code",
   "execution_count": 35,
   "id": "e5c0d3e2-c3eb-4c5f-854f-d5f854a9b59a",
   "metadata": {},
   "outputs": [
    {
     "data": {
      "text/plain": [
       "50"
      ]
     },
     "execution_count": 35,
     "metadata": {},
     "output_type": "execute_result"
    }
   ],
   "source": [
    "max(numbers)"
   ]
  },
  {
   "cell_type": "code",
   "execution_count": 36,
   "id": "41abc40c-f142-4890-8ed8-bd22b9a31662",
   "metadata": {},
   "outputs": [
    {
     "data": {
      "text/plain": [
       "10"
      ]
     },
     "execution_count": 36,
     "metadata": {},
     "output_type": "execute_result"
    }
   ],
   "source": [
    "min(numbers)"
   ]
  },
  {
   "cell_type": "code",
   "execution_count": 38,
   "id": "16db8af5-9bc0-470c-9b1b-b128c6705e70",
   "metadata": {},
   "outputs": [
    {
     "name": "stdout",
     "output_type": "stream",
     "text": [
      "40\n"
     ]
    }
   ],
   "source": [
    "range_numbers= max(numbers)-min(numbers)\n",
    "print (range_numbers)\n"
   ]
  },
  {
   "cell_type": "code",
   "execution_count": 39,
   "id": "4dd70bbd-a8c8-4c89-aacf-13eda4c150c6",
   "metadata": {},
   "outputs": [
    {
     "name": "stdout",
     "output_type": "stream",
     "text": [
      "count of A: 3\n"
     ]
    }
   ],
   "source": [
    "grades= [\"A\", \"B\", \"A\", \"C\", \"B\", \"A\"]\n",
    "print (\"count of A:\", grades.count(\"A\"))"
   ]
  },
  {
   "cell_type": "code",
   "execution_count": 40,
   "id": "3d1c2485-128c-4726-b908-8979f7c3a94a",
   "metadata": {},
   "outputs": [
    {
     "name": "stdout",
     "output_type": "stream",
     "text": [
      "1\n"
     ]
    }
   ],
   "source": [
    "print (numbers.count(10))"
   ]
  },
  {
   "cell_type": "code",
   "execution_count": 46,
   "id": "1693414f-5112-4308-bab9-2e7b2ca3aba0",
   "metadata": {},
   "outputs": [],
   "source": [
    "def square_numbers(nums):\n",
    "    result =[]\n",
    "    for n in nums:\n",
    "        result.append(n ** 2)\n",
    "        return result\n",
    "        "
   ]
  },
  {
   "cell_type": "code",
   "execution_count": 47,
   "id": "66691cf7-7e2e-4cf0-b28f-87bace00811e",
   "metadata": {},
   "outputs": [
    {
     "name": "stdout",
     "output_type": "stream",
     "text": [
      "[1]\n"
     ]
    }
   ],
   "source": [
    "print (square_numbers([1, 2, 3, 4]))"
   ]
  },
  {
   "cell_type": "code",
   "execution_count": 49,
   "id": "41f2a3d4-a57f-4f5d-8d21-7d3377f707ef",
   "metadata": {},
   "outputs": [],
   "source": [
    "def square_numbers(nums):\n",
    "    result = []\n",
    "    for n in nums:\n",
    "        result.append(n ** 2)\n",
    "        return result"
   ]
  },
  {
   "cell_type": "code",
   "execution_count": 52,
   "id": "983a4084-e8d0-4bd9-9cca-f1c5728a591e",
   "metadata": {},
   "outputs": [
    {
     "name": "stdout",
     "output_type": "stream",
     "text": [
      "[16]\n"
     ]
    }
   ],
   "source": [
    "print(square_numbers([4,5,6]))"
   ]
  },
  {
   "cell_type": "code",
   "execution_count": 59,
   "id": "d14f2e5f-3b33-4443-8ea2-7dbc4b9ec1f0",
   "metadata": {},
   "outputs": [],
   "source": [
    "def filter_even_numbers(nums):\n",
    "    evens =[]\n",
    "    for n in nums:\n",
    "        if n % 2 == 0:\n",
    "            evens.append(n)\n",
    "            return evens"
   ]
  },
  {
   "cell_type": "code",
   "execution_count": 60,
   "id": "110040a1-1e7a-42d8-a162-af7d629472cf",
   "metadata": {},
   "outputs": [
    {
     "name": "stdout",
     "output_type": "stream",
     "text": [
      "[2]\n"
     ]
    }
   ],
   "source": [
    "print (filter_even_numbers([1,2,3,4,5,6]))"
   ]
  },
  {
   "cell_type": "code",
   "execution_count": 61,
   "id": "19d5982e-1e89-4e3d-894b-b24581058279",
   "metadata": {},
   "outputs": [],
   "source": [
    "def find_max(nums):\n",
    "    return max(nums)"
   ]
  },
  {
   "cell_type": "code",
   "execution_count": 62,
   "id": "45555ad2-b09e-4b7f-9e00-adacb654d761",
   "metadata": {},
   "outputs": [
    {
     "name": "stdout",
     "output_type": "stream",
     "text": [
      "34\n"
     ]
    }
   ],
   "source": [
    "print(find_max([10, 34,6,3]))"
   ]
  },
  {
   "cell_type": "code",
   "execution_count": 66,
   "id": "f4692d04-a749-49da-98fb-4a32185106f5",
   "metadata": {},
   "outputs": [],
   "source": [
    "name= \"kingsley\"\n",
    "age= 25\n",
    "greetings = \"hello\"\n",
    "intro = f\"my name is {name} amd i am {age} years old\""
   ]
  },
  {
   "cell_type": "code",
   "execution_count": 68,
   "id": "eeec80b1-573f-4ef1-be8c-a19f441cc158",
   "metadata": {},
   "outputs": [
    {
     "name": "stdout",
     "output_type": "stream",
     "text": [
      "my name is kingsley amd i am 25 years old\n"
     ]
    }
   ],
   "source": [
    "print (intro)"
   ]
  },
  {
   "cell_type": "code",
   "execution_count": 74,
   "id": "3cd3ca33-1adb-4cd8-b984-2fef401eb747",
   "metadata": {},
   "outputs": [
    {
     "name": "stdout",
     "output_type": "stream",
     "text": [
      "hello  my name is kingsley amd i am 25 years old\n"
     ]
    }
   ],
   "source": [
    "print (greetings, \"\" , intro)"
   ]
  },
  {
   "cell_type": "code",
   "execution_count": 75,
   "id": "6d60a335-56e9-4e93-ab66-5ccd20a13058",
   "metadata": {},
   "outputs": [],
   "source": [
    "text = \"python programming\""
   ]
  },
  {
   "cell_type": "code",
   "execution_count": 77,
   "id": "268516ec-c757-4f04-87d7-da4deb78843b",
   "metadata": {},
   "outputs": [
    {
     "name": "stdout",
     "output_type": "stream",
     "text": [
      "PYTHON PROGRAMMING\n",
      "Python programming\n",
      "Python Programming\n"
     ]
    }
   ],
   "source": [
    "print (text.upper ())\n",
    "print (text.capitalize())\n",
    "print (text.title())"
   ]
  },
  {
   "cell_type": "code",
   "execution_count": 78,
   "id": "11392afa-1a20-4017-ab0f-74990581d6dc",
   "metadata": {},
   "outputs": [
    {
     "name": "stdout",
     "output_type": "stream",
     "text": [
      "10\n"
     ]
    }
   ],
   "source": [
    "print (text.find(\"gram\"))"
   ]
  },
  {
   "cell_type": "code",
   "execution_count": 79,
   "id": "1dd28c81-2157-4278-9464-2ebfb8187f34",
   "metadata": {},
   "outputs": [
    {
     "name": "stdout",
     "output_type": "stream",
     "text": [
      "html programming\n"
     ]
    }
   ],
   "source": [
    "print (text.replace (\"python\", \"html\"))"
   ]
  },
  {
   "cell_type": "code",
   "execution_count": 80,
   "id": "efcfaf3b-aa09-440e-92dd-bcf92012a32a",
   "metadata": {},
   "outputs": [],
   "source": [
    "import csv"
   ]
  },
  {
   "cell_type": "code",
   "execution_count": 82,
   "id": "ab56d5a3-56ac-4aec-b553-a6962246535e",
   "metadata": {},
   "outputs": [
    {
     "ename": "SyntaxError",
     "evalue": "expected ':' (4237834081.py, line 1)",
     "output_type": "error",
     "traceback": [
      "\u001b[1;36m  Cell \u001b[1;32mIn[82], line 1\u001b[1;36m\u001b[0m\n\u001b[1;33m    with open ('example.csv', newline='')\u001b[0m\n\u001b[1;37m                                         ^\u001b[0m\n\u001b[1;31mSyntaxError\u001b[0m\u001b[1;31m:\u001b[0m expected ':'\n"
     ]
    }
   ],
   "source": [
    "with open ('example.csv', newline='')\n",
    "as file:\n",
    "    reader= csv.reader(file)\n",
    "    for row in reader:\n",
    "        print (row)"
   ]
  },
  {
   "cell_type": "code",
   "execution_count": 83,
   "id": "8bc73348-8509-4e74-a5bc-27389de188e2",
   "metadata": {},
   "outputs": [
    {
     "ename": "SyntaxError",
     "evalue": "expected ':' (1233621248.py, line 2)",
     "output_type": "error",
     "traceback": [
      "\u001b[1;36m  Cell \u001b[1;32mIn[83], line 2\u001b[1;36m\u001b[0m\n\u001b[1;33m    with open ('example.csv', newline='')\u001b[0m\n\u001b[1;37m                                         ^\u001b[0m\n\u001b[1;31mSyntaxError\u001b[0m\u001b[1;31m:\u001b[0m expected ':'\n"
     ]
    }
   ],
   "source": [
    "import csv\n",
    "with open ('example.csv', newline='')\n",
    "as file:\n",
    "    reader= csv.DictReader(file)\n",
    "    for row in reader:\n",
    "        print (row[\"name\"], \"-\", row[\"age\"])"
   ]
  },
  {
   "cell_type": "code",
   "execution_count": 85,
   "id": "e675922e-ef91-49b7-a488-65bbb15fe09b",
   "metadata": {},
   "outputs": [
    {
     "name": "stdout",
     "output_type": "stream",
     "text": [
      "Requirement already satisfied: pandas in c:\\users\\user\\anaconda3\\lib\\site-packages (2.2.2)\n",
      "Requirement already satisfied: numpy>=1.26.0 in c:\\users\\user\\anaconda3\\lib\\site-packages (from pandas) (1.26.4)\n",
      "Requirement already satisfied: python-dateutil>=2.8.2 in c:\\users\\user\\anaconda3\\lib\\site-packages (from pandas) (2.9.0.post0)\n",
      "Requirement already satisfied: pytz>=2020.1 in c:\\users\\user\\anaconda3\\lib\\site-packages (from pandas) (2024.1)\n",
      "Requirement already satisfied: tzdata>=2022.7 in c:\\users\\user\\anaconda3\\lib\\site-packages (from pandas) (2023.3)\n",
      "Requirement already satisfied: six>=1.5 in c:\\users\\user\\anaconda3\\lib\\site-packages (from python-dateutil>=2.8.2->pandas) (1.16.0)\n",
      "Note: you may need to restart the kernel to use updated packages.\n"
     ]
    }
   ],
   "source": [
    "pip install pandas "
   ]
  },
  {
   "cell_type": "code",
   "execution_count": 86,
   "id": "247947a2-fe68-4a05-a11e-e6df6261644a",
   "metadata": {},
   "outputs": [],
   "source": [
    "import pandas as pd"
   ]
  },
  {
   "cell_type": "code",
   "execution_count": 87,
   "id": "b8cdecc6-c4e2-4a8e-97e6-10dddc36541c",
   "metadata": {},
   "outputs": [],
   "source": [
    "df = pd.read_csv(\"enrollments.csv\")"
   ]
  },
  {
   "cell_type": "code",
   "execution_count": 89,
   "id": "270e4db2-8081-450f-ab7e-c977ce910804",
   "metadata": {},
   "outputs": [
    {
     "name": "stdout",
     "output_type": "stream",
     "text": [
      "      account_key    status   join_date cancel_date  days_to_cancel  \\\n",
      "0             448  canceled  2014-11-10  2015-01-14            65.0   \n",
      "1             448  canceled  2014-11-05  2014-11-10             5.0   \n",
      "2             448  canceled  2015-01-27  2015-01-27             0.0   \n",
      "3             448  canceled  2014-11-10  2014-11-10             0.0   \n",
      "4             448   current  2015-03-10         NaN             NaN   \n",
      "...           ...       ...         ...         ...             ...   \n",
      "1635         1176   current  2015-08-12         NaN             NaN   \n",
      "1636         1110   current  2015-08-13         NaN             NaN   \n",
      "1637         1116  canceled  2015-08-15  2015-08-18             3.0   \n",
      "1638          874   current  2015-08-22         NaN             NaN   \n",
      "1639          686   current  2015-08-23         NaN             NaN   \n",
      "\n",
      "      is_udacity  is_canceled  \n",
      "0           True         True  \n",
      "1           True         True  \n",
      "2           True         True  \n",
      "3           True         True  \n",
      "4           True        False  \n",
      "...          ...          ...  \n",
      "1635       False        False  \n",
      "1636       False        False  \n",
      "1637       False         True  \n",
      "1638       False        False  \n",
      "1639       False        False  \n",
      "\n",
      "[1640 rows x 7 columns]\n"
     ]
    }
   ],
   "source": [
    "print (df)"
   ]
  },
  {
   "cell_type": "code",
   "execution_count": 90,
   "id": "1f1119d9-5520-4e2d-a197-d753b0106772",
   "metadata": {},
   "outputs": [
    {
     "data": {
      "text/plain": [
       "'C:\\\\Users\\\\user\\\\Documents\\\\data analysis'"
      ]
     },
     "execution_count": 90,
     "metadata": {},
     "output_type": "execute_result"
    }
   ],
   "source": [
    "pwd"
   ]
  },
  {
   "cell_type": "code",
   "execution_count": 91,
   "id": "657bd0e5-82bc-4d0c-a116-7342884d6c1e",
   "metadata": {},
   "outputs": [
    {
     "name": "stdout",
     "output_type": "stream",
     "text": [
      "   account_key    status   join_date cancel_date  days_to_cancel  is_udacity  \\\n",
      "0          448  canceled  2014-11-10  2015-01-14            65.0        True   \n",
      "1          448  canceled  2014-11-05  2014-11-10             5.0        True   \n",
      "2          448  canceled  2015-01-27  2015-01-27             0.0        True   \n",
      "3          448  canceled  2014-11-10  2014-11-10             0.0        True   \n",
      "4          448   current  2015-03-10         NaN             NaN        True   \n",
      "\n",
      "   is_canceled  \n",
      "0         True  \n",
      "1         True  \n",
      "2         True  \n",
      "3         True  \n",
      "4        False  \n"
     ]
    }
   ],
   "source": [
    "print (df.head())"
   ]
  },
  {
   "cell_type": "code",
   "execution_count": 92,
   "id": "42c13e6a-f911-4904-8af7-a1403289dc18",
   "metadata": {},
   "outputs": [
    {
     "name": "stdout",
     "output_type": "stream",
     "text": [
      "      account_key    status   join_date cancel_date  days_to_cancel  \\\n",
      "1635         1176   current  2015-08-12         NaN             NaN   \n",
      "1636         1110   current  2015-08-13         NaN             NaN   \n",
      "1637         1116  canceled  2015-08-15  2015-08-18             3.0   \n",
      "1638          874   current  2015-08-22         NaN             NaN   \n",
      "1639          686   current  2015-08-23         NaN             NaN   \n",
      "\n",
      "      is_udacity  is_canceled  \n",
      "1635       False        False  \n",
      "1636       False        False  \n",
      "1637       False         True  \n",
      "1638       False        False  \n",
      "1639       False        False  \n"
     ]
    }
   ],
   "source": [
    "print (df.tail())"
   ]
  },
  {
   "cell_type": "code",
   "execution_count": 93,
   "id": "b34fe743-dbc9-442d-a9c7-4bc8e60af65a",
   "metadata": {},
   "outputs": [
    {
     "name": "stdout",
     "output_type": "stream",
     "text": [
      "<class 'pandas.core.frame.DataFrame'>\n",
      "RangeIndex: 1640 entries, 0 to 1639\n",
      "Data columns (total 7 columns):\n",
      " #   Column          Non-Null Count  Dtype  \n",
      "---  ------          --------------  -----  \n",
      " 0   account_key     1640 non-null   int64  \n",
      " 1   status          1640 non-null   object \n",
      " 2   join_date       1640 non-null   object \n",
      " 3   cancel_date     988 non-null    object \n",
      " 4   days_to_cancel  988 non-null    float64\n",
      " 5   is_udacity      1640 non-null   bool   \n",
      " 6   is_canceled     1640 non-null   bool   \n",
      "dtypes: bool(2), float64(1), int64(1), object(3)\n",
      "memory usage: 67.4+ KB\n",
      "None\n"
     ]
    }
   ],
   "source": [
    "print (df.info())"
   ]
  },
  {
   "cell_type": "code",
   "execution_count": 94,
   "id": "b2409c78-6a2c-4c07-b17f-e514a483091d",
   "metadata": {},
   "outputs": [
    {
     "name": "stdout",
     "output_type": "stream",
     "text": [
      "       account_key  days_to_cancel\n",
      "count  1640.000000      988.000000\n",
      "mean    642.775610       43.917004\n",
      "std     376.890333       50.869513\n",
      "min       0.000000        0.000000\n",
      "25%     322.000000        5.000000\n",
      "50%     635.500000       22.000000\n",
      "75%     969.250000       65.000000\n",
      "max    1305.000000      249.000000\n"
     ]
    }
   ],
   "source": [
    "print (df.describe())"
   ]
  },
  {
   "cell_type": "code",
   "execution_count": 95,
   "id": "82be7596-7962-4aae-b181-76663afc41ba",
   "metadata": {},
   "outputs": [
    {
     "name": "stdout",
     "output_type": "stream",
     "text": [
      "0        448\n",
      "1        448\n",
      "2        448\n",
      "3        448\n",
      "4        448\n",
      "        ... \n",
      "1635    1176\n",
      "1636    1110\n",
      "1637    1116\n",
      "1638     874\n",
      "1639     686\n",
      "Name: account_key, Length: 1640, dtype: int64\n"
     ]
    }
   ],
   "source": [
    "print (df[\"account_key\"])"
   ]
  },
  {
   "cell_type": "code",
   "execution_count": 96,
   "id": "3fb44091-149a-46fc-92f5-d8cc3db1b6f8",
   "metadata": {},
   "outputs": [
    {
     "name": "stdout",
     "output_type": "stream",
     "text": [
      "0       canceled\n",
      "1       canceled\n",
      "2       canceled\n",
      "3       canceled\n",
      "4        current\n",
      "          ...   \n",
      "1635     current\n",
      "1636     current\n",
      "1637    canceled\n",
      "1638     current\n",
      "1639     current\n",
      "Name: status, Length: 1640, dtype: object\n"
     ]
    }
   ],
   "source": [
    "print (df[\"status\"])"
   ]
  },
  {
   "cell_type": "code",
   "execution_count": 98,
   "id": "d150b601-cb0a-4d34-b9a2-18c2ec639319",
   "metadata": {},
   "outputs": [
    {
     "name": "stdout",
     "output_type": "stream",
     "text": [
      "1054152\n"
     ]
    }
   ],
   "source": [
    "print (df[\"account_key\"].sum())"
   ]
  },
  {
   "cell_type": "code",
   "execution_count": 99,
   "id": "2bf271f0-54c9-44b2-8ca8-d782fe91d512",
   "metadata": {},
   "outputs": [
    {
     "name": "stdout",
     "output_type": "stream",
     "text": [
      "1305\n"
     ]
    }
   ],
   "source": [
    "print (df[\"account_key\"].max())"
   ]
  },
  {
   "cell_type": "code",
   "execution_count": 100,
   "id": "96025982-7f5c-44f9-a6a8-90437028ecb0",
   "metadata": {},
   "outputs": [
    {
     "name": "stdout",
     "output_type": "stream",
     "text": [
      "954    canceled\n",
      "Name: status, dtype: object\n"
     ]
    }
   ],
   "source": [
    "status_max_account = df[df[\"account_key\"]== 1305] \n",
    "print (status_max_account[\"status\"])"
   ]
  },
  {
   "cell_type": "code",
   "execution_count": 102,
   "id": "210bae56-a2f8-41b3-8980-3666f4f791b1",
   "metadata": {},
   "outputs": [],
   "source": [
    "fd = pd.read_csv (\"project_submissions.csv\")"
   ]
  },
  {
   "cell_type": "code",
   "execution_count": 103,
   "id": "aff3244c-845a-4070-a4a7-d04193355712",
   "metadata": {},
   "outputs": [
    {
     "name": "stdout",
     "output_type": "stream",
     "text": [
      "     creation_date completion_date assigned_rating  account_key  lesson_key  \\\n",
      "0       2015-01-14      2015-01-16        UNGRADED          256  3176718735   \n",
      "1       2015-01-10      2015-01-13      INCOMPLETE          256  3176718735   \n",
      "2       2015-01-20      2015-01-20          PASSED          256  3176718735   \n",
      "3       2015-03-10      2015-03-13          PASSED          434  3176718735   \n",
      "4       2015-02-17      2015-03-03      INCOMPLETE          434  3176718735   \n",
      "...            ...             ...             ...          ...         ...   \n",
      "3637    2015-01-13      2015-01-22          PASSED          243  3176718735   \n",
      "3638    2015-07-07      2015-07-07      INCOMPLETE          771  3176718735   \n",
      "3639    2015-08-16      2015-08-16          PASSED            2  3176718735   \n",
      "3640    2015-03-03      2015-03-11          PASSED          623  3176718735   \n",
      "3641    2015-07-10      2015-07-11          PASSED         1274  4576183932   \n",
      "\n",
      "     processing_state  \n",
      "0           EVALUATED  \n",
      "1           EVALUATED  \n",
      "2           EVALUATED  \n",
      "3           EVALUATED  \n",
      "4           EVALUATED  \n",
      "...               ...  \n",
      "3637        EVALUATED  \n",
      "3638        EVALUATED  \n",
      "3639        EVALUATED  \n",
      "3640        EVALUATED  \n",
      "3641        EVALUATED  \n",
      "\n",
      "[3642 rows x 6 columns]\n"
     ]
    }
   ],
   "source": [
    "print (fd)"
   ]
  },
  {
   "cell_type": "code",
   "execution_count": 104,
   "id": "f0e6863c-9a4b-412e-8ef3-a3a0e00cecb1",
   "metadata": {},
   "outputs": [
    {
     "name": "stdout",
     "output_type": "stream",
     "text": [
      "<class 'pandas.core.frame.DataFrame'>\n",
      "RangeIndex: 3642 entries, 0 to 3641\n",
      "Data columns (total 6 columns):\n",
      " #   Column            Non-Null Count  Dtype \n",
      "---  ------            --------------  ----- \n",
      " 0   creation_date     3642 non-null   object\n",
      " 1   completion_date   3636 non-null   object\n",
      " 2   assigned_rating   3636 non-null   object\n",
      " 3   account_key       3642 non-null   int64 \n",
      " 4   lesson_key        3642 non-null   int64 \n",
      " 5   processing_state  3642 non-null   object\n",
      "dtypes: int64(2), object(4)\n",
      "memory usage: 170.8+ KB\n",
      "None\n"
     ]
    }
   ],
   "source": [
    "print (fd.info())"
   ]
  },
  {
   "cell_type": "code",
   "execution_count": 106,
   "id": "1098ec78-e30e-4e3b-824b-603234b83b79",
   "metadata": {},
   "outputs": [
    {
     "name": "stdout",
     "output_type": "stream",
     "text": [
      "      account_key  status  join_date  cancel_date  days_to_cancel  is_udacity  \\\n",
      "0           False   False      False        False           False       False   \n",
      "1           False   False      False        False           False       False   \n",
      "2           False   False      False        False           False       False   \n",
      "3           False   False      False        False           False       False   \n",
      "4           False   False      False         True            True       False   \n",
      "...           ...     ...        ...          ...             ...         ...   \n",
      "1635        False   False      False         True            True       False   \n",
      "1636        False   False      False         True            True       False   \n",
      "1637        False   False      False        False           False       False   \n",
      "1638        False   False      False         True            True       False   \n",
      "1639        False   False      False         True            True       False   \n",
      "\n",
      "      is_canceled  \n",
      "0           False  \n",
      "1           False  \n",
      "2           False  \n",
      "3           False  \n",
      "4           False  \n",
      "...           ...  \n",
      "1635        False  \n",
      "1636        False  \n",
      "1637        False  \n",
      "1638        False  \n",
      "1639        False  \n",
      "\n",
      "[1640 rows x 7 columns]\n"
     ]
    }
   ],
   "source": [
    "print (df.isnull())"
   ]
  },
  {
   "cell_type": "code",
   "execution_count": 107,
   "id": "a679dc55-56bc-4b25-9c26-7faa3ebe8530",
   "metadata": {},
   "outputs": [
    {
     "name": "stdout",
     "output_type": "stream",
     "text": [
      "account_key         0\n",
      "status              0\n",
      "join_date           0\n",
      "cancel_date       652\n",
      "days_to_cancel    652\n",
      "is_udacity          0\n",
      "is_canceled         0\n",
      "dtype: int64\n"
     ]
    }
   ],
   "source": [
    "print (df.isnull().sum())"
   ]
  },
  {
   "cell_type": "code",
   "execution_count": 110,
   "id": "5c9ee144-d4eb-43e4-8089-e575c13afce7",
   "metadata": {},
   "outputs": [
    {
     "name": "stdout",
     "output_type": "stream",
     "text": [
      "Requirement already satisfied: matplotlib in c:\\users\\user\\anaconda3\\lib\\site-packages (3.9.2)\n",
      "Requirement already satisfied: contourpy>=1.0.1 in c:\\users\\user\\anaconda3\\lib\\site-packages (from matplotlib) (1.2.0)\n",
      "Requirement already satisfied: cycler>=0.10 in c:\\users\\user\\anaconda3\\lib\\site-packages (from matplotlib) (0.11.0)\n",
      "Requirement already satisfied: fonttools>=4.22.0 in c:\\users\\user\\anaconda3\\lib\\site-packages (from matplotlib) (4.51.0)\n",
      "Requirement already satisfied: kiwisolver>=1.3.1 in c:\\users\\user\\anaconda3\\lib\\site-packages (from matplotlib) (1.4.4)\n",
      "Requirement already satisfied: numpy>=1.23 in c:\\users\\user\\anaconda3\\lib\\site-packages (from matplotlib) (1.26.4)\n",
      "Requirement already satisfied: packaging>=20.0 in c:\\users\\user\\anaconda3\\lib\\site-packages (from matplotlib) (24.1)\n",
      "Requirement already satisfied: pillow>=8 in c:\\users\\user\\anaconda3\\lib\\site-packages (from matplotlib) (10.4.0)\n",
      "Requirement already satisfied: pyparsing>=2.3.1 in c:\\users\\user\\anaconda3\\lib\\site-packages (from matplotlib) (3.1.2)\n",
      "Requirement already satisfied: python-dateutil>=2.7 in c:\\users\\user\\anaconda3\\lib\\site-packages (from matplotlib) (2.9.0.post0)\n",
      "Requirement already satisfied: six>=1.5 in c:\\users\\user\\anaconda3\\lib\\site-packages (from python-dateutil>=2.7->matplotlib) (1.16.0)\n",
      "Note: you may need to restart the kernel to use updated packages.\n"
     ]
    }
   ],
   "source": [
    "pip install matplotlib"
   ]
  },
  {
   "cell_type": "code",
   "execution_count": 111,
   "id": "a5ed2fb4-5a07-43e2-8fe3-fa0f5ae51355",
   "metadata": {},
   "outputs": [],
   "source": [
    "import pandas as pd\n",
    "import matplotlib.pyplot as plt"
   ]
  },
  {
   "cell_type": "code",
   "execution_count": 2,
   "id": "20c5ae1e-cdc9-413c-99e1-de35b380f6de",
   "metadata": {},
   "outputs": [
    {
     "ename": "NameError",
     "evalue": "name 'fd' is not defined",
     "output_type": "error",
     "traceback": [
      "\u001b[1;31m---------------------------------------------------------------------------\u001b[0m",
      "\u001b[1;31mNameError\u001b[0m                                 Traceback (most recent call last)",
      "Cell \u001b[1;32mIn[2], line 1\u001b[0m\n\u001b[1;32m----> 1\u001b[0m df_info\u001b[38;5;241m=\u001b[39m fd\u001b[38;5;241m.\u001b[39minfo()\n",
      "\u001b[1;31mNameError\u001b[0m: name 'fd' is not defined"
     ]
    }
   ],
   "source": [
    "df_info= fd.info()"
   ]
  },
  {
   "cell_type": "code",
   "execution_count": null,
   "id": "6d227fd3-86d6-42e3-81e7-17187e164385",
   "metadata": {},
   "outputs": [],
   "source": []
  }
 ],
 "metadata": {
  "kernelspec": {
   "display_name": "Python 3 (ipykernel)",
   "language": "python",
   "name": "python3"
  },
  "language_info": {
   "codemirror_mode": {
    "name": "ipython",
    "version": 3
   },
   "file_extension": ".py",
   "mimetype": "text/x-python",
   "name": "python",
   "nbconvert_exporter": "python",
   "pygments_lexer": "ipython3",
   "version": "3.12.7"
  }
 },
 "nbformat": 4,
 "nbformat_minor": 5
}
